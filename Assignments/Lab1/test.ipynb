{
 "cells": [
  {
   "cell_type": "code",
   "execution_count": 1,
   "metadata": {},
   "outputs": [],
   "source": [
    "import numpy as np"
   ]
  },
  {
   "cell_type": "code",
   "execution_count": 3,
   "metadata": {},
   "outputs": [],
   "source": [
    "A = np.array([[1,2],[3,4]])"
   ]
  },
  {
   "cell_type": "code",
   "execution_count": 4,
   "metadata": {},
   "outputs": [
    {
     "data": {
      "text/plain": [
       "array([[1, 2],\n",
       "       [3, 4]])"
      ]
     },
     "execution_count": 4,
     "metadata": {},
     "output_type": "execute_result"
    }
   ],
   "source": [
    "A"
   ]
  },
  {
   "cell_type": "code",
   "execution_count": 5,
   "metadata": {},
   "outputs": [
    {
     "data": {
      "text/plain": [
       "array([[ 1,  4],\n",
       "       [ 9, 16]])"
      ]
     },
     "execution_count": 5,
     "metadata": {},
     "output_type": "execute_result"
    }
   ],
   "source": [
    "A**2"
   ]
  },
  {
   "cell_type": "code",
   "execution_count": 9,
   "metadata": {},
   "outputs": [
    {
     "data": {
      "text/plain": [
       "1.4142135623730951"
      ]
     },
     "execution_count": 9,
     "metadata": {},
     "output_type": "execute_result"
    }
   ],
   "source": [
    "((((A-A.mean(0))**2).sum(1))**(1/2)).mean()"
   ]
  },
  {
   "cell_type": "code",
   "execution_count": 10,
   "metadata": {},
   "outputs": [
    {
     "data": {
      "text/plain": [
       "array([2., 3.])"
      ]
     },
     "execution_count": 10,
     "metadata": {},
     "output_type": "execute_result"
    }
   ],
   "source": [
    "A.mean(0)"
   ]
  },
  {
   "cell_type": "code",
   "execution_count": 11,
   "metadata": {},
   "outputs": [
    {
     "data": {
      "text/plain": [
       "array([[-1., -1.],\n",
       "       [ 1.,  1.]])"
      ]
     },
     "execution_count": 11,
     "metadata": {},
     "output_type": "execute_result"
    }
   ],
   "source": [
    "A-A.mean(0)"
   ]
  },
  {
   "cell_type": "code",
   "execution_count": 12,
   "metadata": {},
   "outputs": [],
   "source": [
    "%matplotlib inline\n",
    "%load_ext autoreload\n",
    "%autoreload 1\n",
    "\n",
    "import cv2\n",
    "import matplotlib.pyplot as plt\n",
    "import numpy as np\n",
    "\n",
    "%aimport lab1\n",
    "from lab1 import *\n",
    "\n",
    "np.set_printoptions(precision=6)  # Print less digits"
   ]
  },
  {
   "cell_type": "code",
   "execution_count": 18,
   "metadata": {},
   "outputs": [],
   "source": [
    "src1 = np.array([[0.0, 0.0], [331.0, 0.0], [331.0, 474.0], [0.0, 474.0]], dtype=\"float32\")\n",
    "dst1 = np.array([[182.0, 94.0], [482.0, 48.0], [598.0, 466.0], [146.0, 533.0]], dtype=\"float32\")\n"
   ]
  },
  {
   "cell_type": "code",
   "execution_count": 19,
   "metadata": {},
   "outputs": [],
   "source": [
    "import cv2 "
   ]
  },
  {
   "cell_type": "code",
   "execution_count": 26,
   "metadata": {},
   "outputs": [],
   "source": [
    "M = cv.getPerspectiveTransform(src1,dst1)"
   ]
  },
  {
   "cell_type": "code",
   "execution_count": 27,
   "metadata": {},
   "outputs": [
    {
     "data": {
      "text/plain": [
       "array([[ 9.012217e-01, -1.792522e-01,  1.820000e+02],\n",
       "       [-1.394830e-01,  5.490343e-01,  9.400000e+01],\n",
       "       [-1.062811e-05, -7.075535e-04,  1.000000e+00]])"
      ]
     },
     "execution_count": 27,
     "metadata": {},
     "output_type": "execute_result"
    }
   ],
   "source": [
    "M"
   ]
  },
  {
   "cell_type": "code",
   "execution_count": 37,
   "metadata": {},
   "outputs": [],
   "source": [
    "src2 = np.array([[434.375, 93.625], [429.625, 190.625], \n",
    "                 [533.625, 301.875], [452.375, 460.625], \n",
    "                 [558.375, 188.625], [342.444, 362.596], \n",
    "                 [345.625, 41.875], [341.625, 146.125]])\n",
    "dst2 = np.array([[204.780, 92.367], [201.875, 190.625], \n",
    "                 [297.125, 296.875], [224.446, 456.556],\n",
    "                 [318.407, 192.155], [107.625, 371.375],\n",
    "                 [109.875, 26.624], [106.625, 138.125]])"
   ]
  },
  {
   "cell_type": "code",
   "execution_count": 38,
   "metadata": {},
   "outputs": [
    {
     "data": {
      "text/plain": [
       "array([[434.375,  93.625],\n",
       "       [429.625, 190.625],\n",
       "       [533.625, 301.875],\n",
       "       [452.375, 460.625],\n",
       "       [558.375, 188.625],\n",
       "       [342.444, 362.596],\n",
       "       [345.625,  41.875],\n",
       "       [341.625, 146.125]])"
      ]
     },
     "execution_count": 38,
     "metadata": {},
     "output_type": "execute_result"
    }
   ],
   "source": [
    "src2"
   ]
  },
  {
   "cell_type": "code",
   "execution_count": 42,
   "metadata": {},
   "outputs": [],
   "source": [
    "M2 = cv.findHomography(src2,dst2)"
   ]
  },
  {
   "cell_type": "code",
   "execution_count": 43,
   "metadata": {},
   "outputs": [
    {
     "data": {
      "text/plain": [
       "(array([[ 1.739240e+00,  9.004454e-03, -4.469697e+02],\n",
       "        [ 2.754460e-01,  1.514284e+00, -1.216115e+02],\n",
       "        [ 1.162229e-03,  1.834664e-05,  1.000000e+00]]),\n",
       " array([[1],\n",
       "        [1],\n",
       "        [1],\n",
       "        [1],\n",
       "        [1],\n",
       "        [1],\n",
       "        [1],\n",
       "        [1]], dtype=uint8))"
      ]
     },
     "execution_count": 43,
     "metadata": {},
     "output_type": "execute_result"
    }
   ],
   "source": [
    "M2"
   ]
  },
  {
   "cell_type": "code",
   "execution_count": 49,
   "metadata": {},
   "outputs": [],
   "source": [
    "import numpy as N"
   ]
  },
  {
   "cell_type": "code",
   "execution_count": 84,
   "metadata": {},
   "outputs": [],
   "source": [
    "def Normalization(nd, x):\n",
    "    '''\n",
    "    Normalization of coordinates (centroid to the origin and mean distance of sqrt(2 or 3).\n",
    "    Input\n",
    "    -----\n",
    "    nd: number of dimensions, 3 here\n",
    "    x: the data to be normalized (directions at different columns and points at rows)\n",
    "    Output\n",
    "    ------\n",
    "    Tr: the transformation matrix (translation plus scaling)\n",
    "    x: the transformed data\n",
    "    '''\n",
    "\n",
    "    x = np.asarray(x)\n",
    "    m = np.mean(x, 0)\n",
    "    #s = np.std(x)\n",
    "    s = (((x - m)**2).mean())**(1/2)\n",
    "    #s = ((((x-m)**2).sum(1))**(1/2)).mean()\n",
    "    if nd == 2:\n",
    "        Tr = np.array([[s, 0, m[0]], [0, s, m[1]], [0, 0, 1]])\n",
    "    else:\n",
    "        Tr = np.array([[s, 0, 0, m[0]], [0, s, 0, m[1]], [0, 0, s, m[2]], [0, 0, 0, 1]])\n",
    "        \n",
    "    Tr = np.linalg.inv(Tr)\n",
    "    x = np.dot( Tr, np.concatenate( (x.T, np.ones((1,x.shape[0]))) ) )\n",
    "    x = x[0:nd, :].T\n",
    "    \n",
    "    print(\"test1\")\n",
    "\n",
    "    return Tr, x"
   ]
  },
  {
   "cell_type": "code",
   "execution_count": 85,
   "metadata": {},
   "outputs": [],
   "source": [
    "def DLTcalib(nd, xyz, uv):\n",
    "    '''\n",
    "    Camera calibration by DLT using known object points and their image points.\n",
    "    This code performs 2D or 3D DLT camera calibration with any number of views (cameras).\n",
    "    For 3D DLT, at least two views (cameras) are necessary.\n",
    "    Inputs:\n",
    "     nd is the number of dimensions of the object space: 3 for 3D DLT and 2 for 2D DLT.\n",
    "     xyz are the coordinates in the object 3D or 2D space of the calibration points.\n",
    "     uv are the coordinates in the image 2D space of these calibration points.\n",
    "     The coordinates (x,y,z and u,v) are given as columns and the different points as rows.\n",
    "     For the 2D DLT (object planar space), only the first 2 columns (x and y) are used.\n",
    "     There must be at least 6 calibration points for the 3D DLT and 4 for the 2D DLT.\n",
    "    Outputs:\n",
    "     L: array of the 8 or 11 parameters of the calibration matrix\n",
    "     err: error of the DLT (mean residual of the DLT transformation in units of camera coordinates).\n",
    "    '''\n",
    "    \n",
    "    #Convert all variables to numpy array:\n",
    "    xyz = N.asarray(xyz)\n",
    "    uv = N.asarray(uv)\n",
    "    #number of points:\n",
    "    np = xyz.shape[0]\n",
    "    #Check the parameters:\n",
    "    if uv.shape[0] != np:\n",
    "        raise ValueError('xyz (%d points) and uv (%d points) have different number of points.' %(np, uv.shape[0]))\n",
    "    if (nd == 2 and xyz.shape[1] != 2) or (nd == 3 and xyz.shape[1] != 3):\n",
    "        raise ValueError('Incorrect number of coordinates (%d) for %dD DLT (it should be %d).' %(xyz.shape[1],nd,nd))\n",
    "    if nd == 3 and np < 6 or nd == 2 and np < 4:\n",
    "        raise ValueError('%dD DLT requires at least %d calibration points. Only %d points were entered.' %(nd, 2*nd, np))\n",
    "        \n",
    "    #Normalize the data to improve the DLT quality (DLT is dependent of the system of coordinates).\n",
    "    #This is relevant when there is a considerable perspective distortion.\n",
    "    #Normalization: mean position at origin and mean distance equals to 1 at each direction.\n",
    "    Txyz, xyzn = Normalization(nd, xyz)\n",
    "    Tuv, uvn = Normalization(2, uv)\n",
    "\n",
    "    A = []\n",
    "    if nd == 2: #2D DLT\n",
    "        for i in range(np):\n",
    "            x,y = xyzn[i,0], xyzn[i,1]\n",
    "            u,v = uvn[i,0], uvn[i,1]\n",
    "            A.append( [x, y, 1, 0, 0, 0, -u*x, -u*y, -u] )\n",
    "            A.append( [0, 0, 0, x, y, 1, -v*x, -v*y, -v] )\n",
    "    elif nd == 3: #3D DLT\n",
    "        for i in range(np):\n",
    "            x,y,z = xyzn[i,0], xyzn[i,1], xyzn[i,2]\n",
    "            u,v = uvn[i,0], uvn[i,1]\n",
    "            A.append( [x, y, z, 1, 0, 0, 0, 0, -u*x, -u*y, -u*z, -u] )\n",
    "            A.append( [0, 0, 0, 0, x, y, z, 1, -v*x, -v*y, -v*z, -v] )\n",
    "\n",
    "    #convert A to array\n",
    "    A = N.asarray(A) \n",
    "    #Find the 11 (or 8 for 2D DLT) parameters:\n",
    "    U, S, Vh = N.linalg.svd(A)\n",
    "    #The parameters are in the last line of Vh and normalize them:\n",
    "    L = Vh[-1,:] / Vh[-1,-1]\n",
    "    #Camera projection matrix:\n",
    "    H = L.reshape(3,nd+1)\n",
    "    #Denormalization:\n",
    "    H = N.dot( N.dot( N.linalg.pinv(Tuv), H ), Txyz );\n",
    "    H = H / H[-1,-1]\n",
    "    L = H.flatten()\n",
    "    #Mean error of the DLT (mean residual of the DLT transformation in units of camera coordinates):\n",
    "    uv2 = N.dot( H, N.concatenate( (xyz.T, N.ones((1,xyz.shape[0]))) ) ) \n",
    "    uv2 = uv2/uv2[2,:] \n",
    "    #mean distance:\n",
    "    err = N.sqrt( N.mean(N.sum( (uv2[0:2,:].T - uv)**2,1 )) ) \n",
    "\n",
    "    return L, err"
   ]
  },
  {
   "cell_type": "code",
   "execution_count": 86,
   "metadata": {},
   "outputs": [
    {
     "name": "stdout",
     "output_type": "stream",
     "text": [
      "test1\n",
      "test1\n"
     ]
    }
   ],
   "source": [
    "M, err1 = DLTcalib(2,src2, dst2)"
   ]
  },
  {
   "cell_type": "code",
   "execution_count": 87,
   "metadata": {},
   "outputs": [
    {
     "data": {
      "text/plain": [
       "array([[ 1.738136e+00,  9.499032e-03, -4.466956e+02],\n",
       "       [ 2.745448e-01,  1.514703e+00, -1.213725e+02],\n",
       "       [ 1.160021e-03,  2.073185e-05,  1.000000e+00]])"
      ]
     },
     "execution_count": 87,
     "metadata": {},
     "output_type": "execute_result"
    }
   ],
   "source": [
    "M.reshape(3,3)"
   ]
  },
  {
   "cell_type": "code",
   "execution_count": 83,
   "metadata": {},
   "outputs": [
    {
     "data": {
      "text/plain": [
       "array([[ 1.738142e+00,  9.499591e-03, -4.466981e+02],\n",
       "       [ 2.745430e-01,  1.514708e+00, -1.213726e+02],\n",
       "       [ 1.160019e-03,  2.073913e-05,  1.000000e+00]])"
      ]
     },
     "execution_count": 83,
     "metadata": {},
     "output_type": "execute_result"
    }
   ],
   "source": [
    "M.reshape(3,3)"
   ]
  },
  {
   "cell_type": "code",
   "execution_count": 79,
   "metadata": {},
   "outputs": [
    {
     "data": {
      "text/plain": [
       "array([[ 1.738149e+00,  9.498246e-03, -4.466993e+02],\n",
       "       [ 2.745501e-01,  1.514710e+00, -1.213745e+02],\n",
       "       [ 1.160043e-03,  2.072784e-05,  1.000000e+00]])"
      ]
     },
     "execution_count": 79,
     "metadata": {},
     "output_type": "execute_result"
    }
   ],
   "source": [
    "M.reshape(3,3)"
   ]
  },
  {
   "cell_type": "code",
   "execution_count": null,
   "metadata": {},
   "outputs": [],
   "source": []
  }
 ],
 "metadata": {
  "kernelspec": {
   "display_name": "Python 3",
   "language": "python",
   "name": "python3"
  },
  "language_info": {
   "codemirror_mode": {
    "name": "ipython",
    "version": 3
   },
   "file_extension": ".py",
   "mimetype": "text/x-python",
   "name": "python",
   "nbconvert_exporter": "python",
   "pygments_lexer": "ipython3",
   "version": "3.7.6"
  }
 },
 "nbformat": 4,
 "nbformat_minor": 4
}
